{
 "cells": [
  {
   "cell_type": "code",
   "execution_count": 1,
   "metadata": {},
   "outputs": [],
   "source": [
    "import json\n",
    "import typing\n",
    "import os\n",
    "from dataclasses import dataclass"
   ]
  },
  {
   "cell_type": "markdown",
   "metadata": {},
   "source": [
    "# Test dataclasses"
   ]
  },
  {
   "cell_type": "code",
   "execution_count": 18,
   "metadata": {},
   "outputs": [],
   "source": [
    "@dataclass(order=True)\n",
    "class Name:\n",
    "    name:str=None\n",
    "    age: int=None\n",
    "\n",
    "    def __str__(self):\n",
    "        return f'{self.name}: {self.age} years'\n",
    "\n",
    "\n",
    "@dataclass(order=True)\n",
    "class TestClass:\n",
    "    age: int =None\n",
    "    name: str =None\n",
    "    mail: str =None\n",
    "    status: bool =None\n",
    "    friends: typing.List[Name]=None\n",
    "\n",
    "    def __str__(self) -> str:\n",
    "        print(type(self.friends[0]))\n",
    "        friend_text = \"\\n\".join(str(f) for f in self.friends)                    \n",
    "        return f'{self.name} is {self.age} and has {len(self.friends)} friends. These are: {friend_text}'"
   ]
  },
  {
   "cell_type": "markdown",
   "metadata": {},
   "source": [
    "# Reading JSON"
   ]
  },
  {
   "cell_type": "code",
   "execution_count": 3,
   "metadata": {},
   "outputs": [],
   "source": [
    "with open('utils/example_input.json') as content:\n",
    "    json_dict = json.load(content)"
   ]
  },
  {
   "cell_type": "markdown",
   "metadata": {},
   "source": [
    "# Marshaller"
   ]
  },
  {
   "cell_type": "code",
   "execution_count": 41,
   "metadata": {},
   "outputs": [],
   "source": [
    "class Pyshaller():\n",
    "\n",
    "    \"\"\"\n",
    "    TODO\n",
    "    Add an unmarshall list function that reads every element in the list and creates the dataclass from it returning a list of the object\n",
    "    Add the marshall function (That should be easier and recursive)\n",
    "    \"\"\"\n",
    "\n",
    "    def __init__(self):\n",
    "        self.nothing = None\n",
    "\n",
    "    def unmarshall(self, struct: object, json_dict: typing.Dict) -> object:\n",
    "        # Dictionary of possible attributes of object\n",
    "        attributes = [a for a in dir(struct) if not a.startswith('__')]\n",
    "        for a in attributes:\n",
    "            print(type(json_dict))\n",
    "            if a in json_dict.keys():\n",
    "                try:\n",
    "                    value = json_dict[a]\n",
    "                    setattr(struct, a, value)\n",
    "                except ValueError:\n",
    "                    print(f'There is no {a} key in the dictionary')\n",
    "        return struct\n",
    "\n",
    "    def unmarshall_list(self, struct: object, objects: typing.List[typing.Dict])-> typing.List[object]:    \n",
    "        answer = []\n",
    "        for item in objects:\n",
    "            temp_struct = struct()\n",
    "            answer.append(self.unmarshall(temp_struct, item))\n",
    "        return answer\n",
    "\n",
    "    def marshall(self, struct: object) -> typing.Dict:\n",
    "        # TODO: Implement. Missing taking care of subclasses\n",
    "        attributes = [a for a in dir(struct) if not a.startswith('__')]\n",
    "        answer = {}\n",
    "        for attr in attributes:\n",
    "            answer[attr] = getattr(struct, attr)\n",
    "        return answer\n",
    "        "
   ]
  },
  {
   "cell_type": "code",
   "execution_count": 21,
   "metadata": {},
   "outputs": [
    {
     "data": {
      "text/plain": [
       "{'name': 'Jonas',\n",
       " 'mail': 'jonas@gmail.com',\n",
       " 'status': True,\n",
       " 'friends': [{'name': 'juan', 'age': 20}, {'name': 'anna'}]}"
      ]
     },
     "execution_count": 21,
     "metadata": {},
     "output_type": "execute_result"
    }
   ],
   "source": [
    "json_dict"
   ]
  },
  {
   "cell_type": "code",
   "execution_count": 43,
   "metadata": {},
   "outputs": [
    {
     "name": "stdout",
     "output_type": "stream",
     "text": [
      "<class 'dict'>\n",
      "<class 'dict'>\n",
      "<class 'dict'>\n",
      "<class 'dict'>\n",
      "<class 'dict'>\n"
     ]
    }
   ],
   "source": [
    "p = Pyshaller()\n",
    "t = TestClass()\n",
    "t = p.unmarshall(t, json_dict)"
   ]
  },
  {
   "cell_type": "code",
   "execution_count": 44,
   "metadata": {},
   "outputs": [
    {
     "data": {
      "text/plain": [
       "[{'name': 'juan', 'age': 20}, {'name': 'anna'}]"
      ]
     },
     "execution_count": 44,
     "metadata": {},
     "output_type": "execute_result"
    }
   ],
   "source": [
    "t.friends"
   ]
  },
  {
   "cell_type": "code",
   "execution_count": 45,
   "metadata": {},
   "outputs": [
    {
     "name": "stdout",
     "output_type": "stream",
     "text": [
      "<class 'dict'>\n",
      "<class 'dict'>\n",
      "<class 'dict'>\n",
      "<class 'dict'>\n"
     ]
    }
   ],
   "source": [
    "t.friends = p.unmarshall_list(Name, t.friends)"
   ]
  },
  {
   "cell_type": "code",
   "execution_count": 49,
   "metadata": {},
   "outputs": [
    {
     "data": {
      "text/plain": [
       "__main__.Name"
      ]
     },
     "execution_count": 49,
     "metadata": {},
     "output_type": "execute_result"
    }
   ],
   "source": [
    "type(t.friends[0])"
   ]
  },
  {
   "cell_type": "code",
   "execution_count": 47,
   "metadata": {},
   "outputs": [
    {
     "data": {
      "text/plain": [
       "{'age': None,\n",
       " 'friends': [Name(name='juan', age=20), Name(name='anna', age=None)],\n",
       " 'mail': 'jonas@gmail.com',\n",
       " 'name': 'Jonas',\n",
       " 'status': True}"
      ]
     },
     "execution_count": 47,
     "metadata": {},
     "output_type": "execute_result"
    }
   ],
   "source": [
    "p.marshall(t)"
   ]
  },
  {
   "cell_type": "code",
   "execution_count": null,
   "metadata": {},
   "outputs": [],
   "source": []
  }
 ],
 "metadata": {
  "interpreter": {
   "hash": "ea542fd8d4eacaeb592e7c0582589436192b922135ac57dcc6eb40ca0ce0025a"
  },
  "kernelspec": {
   "display_name": "Python 3.7.11 ('nlp')",
   "language": "python",
   "name": "python3"
  },
  "language_info": {
   "codemirror_mode": {
    "name": "ipython",
    "version": 3
   },
   "file_extension": ".py",
   "mimetype": "text/x-python",
   "name": "python",
   "nbconvert_exporter": "python",
   "pygments_lexer": "ipython3",
   "version": "3.7.12"
  },
  "orig_nbformat": 4
 },
 "nbformat": 4,
 "nbformat_minor": 2
}
