{
 "cells": [
  {
   "cell_type": "code",
   "execution_count": 1,
   "metadata": {},
   "outputs": [],
   "source": [
    "import json\n",
    "import typing\n",
    "import os\n",
    "from dataclasses import dataclass"
   ]
  },
  {
   "cell_type": "markdown",
   "metadata": {},
   "source": [
    "# Test dataclasses"
   ]
  },
  {
   "cell_type": "code",
   "execution_count": 2,
   "metadata": {},
   "outputs": [],
   "source": [
    "@dataclass(order=True)\n",
    "class Name:\n",
    "    name:str=None\n",
    "    age: int=None\n",
    "\n",
    "    def __str__(self):\n",
    "        return f'{self.name}: {self.age} years'\n",
    "\n",
    "\n",
    "@dataclass(order=True)\n",
    "class TestClass:\n",
    "    age: int =None\n",
    "    name: str =None\n",
    "    mail: str =None\n",
    "    status: bool =None\n",
    "    friends: typing.List[Name]=None\n",
    "\n",
    "    def __str__(self) -> str:\n",
    "        print(type(self.friends[0]))\n",
    "        friend_text = \"\\n\".join(str(f) for f in self.friends)                    \n",
    "        return f'{self.name} is {self.age} and has {len(self.friends)} friends. These are: {friend_text}'"
   ]
  },
  {
   "cell_type": "markdown",
   "metadata": {},
   "source": [
    "# Reading JSON"
   ]
  },
  {
   "cell_type": "code",
   "execution_count": 3,
   "metadata": {},
   "outputs": [],
   "source": [
    "with open('utils/example_input.json') as content:\n",
    "    json_dict = json.load(content)"
   ]
  },
  {
   "cell_type": "markdown",
   "metadata": {},
   "source": [
    "# Marshaller"
   ]
  },
  {
   "cell_type": "code",
   "execution_count": 32,
   "metadata": {},
   "outputs": [],
   "source": [
    "class Pyshaller():\n",
    "\n",
    "    \"\"\"\n",
    "    TODO\n",
    "    Add an unmarshall list function that reads every element in the list and creates the dataclass from it returning a list of the object\n",
    "    Add the marshall function (That should be easier and recursive)\n",
    "    \"\"\"\n",
    "\n",
    "    def __init__(self):\n",
    "        self.simple_types = [\n",
    "            'str',\n",
    "            'bool',\n",
    "            'float64',\n",
    "            'int32',\n",
    "            'int64',\n",
    "            'datetime'            \n",
    "        ]\n",
    "\n",
    "    def is_simple(self, candidate: typing.Any) -> bool:\n",
    "        for t in self.simple_types:\n",
    "            if t in str(candidate) or candidate is None:\n",
    "                return True\n",
    "        return False\n",
    "\n",
    "    def unmarshall(self, struct: object, json_dict: typing.Dict) -> object:\n",
    "        # Dictionary of possible attributes of object\n",
    "        attributes = [a for a in dir(struct) if not a.startswith('__')]\n",
    "        for a in attributes:\n",
    "            print(type(json_dict))\n",
    "            if a in json_dict.keys():\n",
    "                try:\n",
    "                    value = json_dict[a]\n",
    "                    setattr(struct, a, value)\n",
    "                except ValueError:\n",
    "                    print(f'There is no {a} key in the dictionary')\n",
    "        return struct\n",
    "\n",
    "    def unmarshall_list(self, struct: object, objects: typing.List[typing.Dict])-> typing.List[object]:    \n",
    "        answer = []\n",
    "        for item in objects:\n",
    "            temp_struct = struct()\n",
    "            answer.append(self.unmarshall(temp_struct, item))\n",
    "        return answer\n",
    "\n",
    "    def marshall(self, struct: object) -> typing.Dict:\n",
    "        # TODO: Implement. Missing taking care of subclasses        \n",
    "        answer = {}\n",
    "        answer = self.add_attributes_to_dict(answer, struct)\n",
    "        return answer\n",
    "        \n",
    "    def detect_type(self, struct: object) -> typing.Dict:\n",
    "        attributes = [a for a in dir(struct) if not a.startswith('__')]\n",
    "        for attr in attributes:\n",
    "            value = getattr(struct, attr)\n",
    "            attr_type = type(value)\n",
    "            # Get special cases\n",
    "            if getattr(struct, attr) is None:\n",
    "                # It has a None value in the dataclass, it can be skipped for the JSON object.\n",
    "                continue\n",
    "            elif str(type(getattr(struct, attr))).__contains__('list'):\n",
    "                print('list')\n",
    "            elif not p.is_simple(attr_type):\n",
    "                print(attr)\n",
    "            target[attr] = getattr(struct, attr)\n",
    "            \n",
    "\n",
    "\n",
    "    def add_attributes_to_dict(self, target: typing.Dict, struct: object) -> typing.Dict:\n",
    "        attributes = [a for a in dir(struct) if not a.startswith('__')]\n",
    "        for attr in attributes:\n",
    "            attr_type = type(getattr(struct, attr))\n",
    "            if not self.is_simple(attr_type):\n",
    "                # It is a class in itself\n",
    "                # TODO Add the differentiation of lists and classes\n",
    "                target[attr] = self.add_attributes_to_dict(target, attr)\n",
    "            target[attr] = getattr(struct, attr)\n",
    "        return target\n",
    "        "
   ]
  },
  {
   "cell_type": "code",
   "execution_count": 5,
   "metadata": {},
   "outputs": [
    {
     "data": {
      "text/plain": [
       "{'name': 'Jonas',\n",
       " 'mail': 'jonas@gmail.com',\n",
       " 'status': True,\n",
       " 'friends': [{'name': 'juan', 'age': 20}, {'name': 'anna'}]}"
      ]
     },
     "execution_count": 5,
     "metadata": {},
     "output_type": "execute_result"
    }
   ],
   "source": [
    "json_dict"
   ]
  },
  {
   "cell_type": "code",
   "execution_count": 6,
   "metadata": {},
   "outputs": [
    {
     "name": "stdout",
     "output_type": "stream",
     "text": [
      "<class 'dict'>\n",
      "<class 'dict'>\n",
      "<class 'dict'>\n",
      "<class 'dict'>\n",
      "<class 'dict'>\n"
     ]
    }
   ],
   "source": [
    "p = Pyshaller()\n",
    "t = TestClass()\n",
    "t = p.unmarshall(t, json_dict)"
   ]
  },
  {
   "cell_type": "code",
   "execution_count": 9,
   "metadata": {},
   "outputs": [
    {
     "data": {
      "text/plain": [
       "([{'name': 'juan', 'age': 20}, {'name': 'anna'}], list, dict)"
      ]
     },
     "execution_count": 9,
     "metadata": {},
     "output_type": "execute_result"
    }
   ],
   "source": [
    "t.friends, type(t.friends), type(t.friends[0])"
   ]
  },
  {
   "cell_type": "markdown",
   "metadata": {},
   "source": [
    "Note that every friend is currently a dictionary and not an instance of the class friend"
   ]
  },
  {
   "cell_type": "code",
   "execution_count": 10,
   "metadata": {},
   "outputs": [
    {
     "name": "stdout",
     "output_type": "stream",
     "text": [
      "<class 'dict'>\n",
      "<class 'dict'>\n",
      "<class 'dict'>\n",
      "<class 'dict'>\n"
     ]
    }
   ],
   "source": [
    "t.friends = p.unmarshall_list(Name, t.friends)"
   ]
  },
  {
   "cell_type": "code",
   "execution_count": 11,
   "metadata": {},
   "outputs": [
    {
     "data": {
      "text/plain": [
       "__main__.Name"
      ]
     },
     "execution_count": 11,
     "metadata": {},
     "output_type": "execute_result"
    }
   ],
   "source": [
    "type(t.friends[0])"
   ]
  },
  {
   "cell_type": "markdown",
   "metadata": {},
   "source": [
    "Now we have the instances. This process sadly has to be done manually using multiple lines of code in order to get the types in the nested classes"
   ]
  },
  {
   "cell_type": "code",
   "execution_count": 13,
   "metadata": {},
   "outputs": [
    {
     "data": {
      "text/plain": [
       "['age', 'friends', 'mail', 'name', 'status']"
      ]
     },
     "execution_count": 13,
     "metadata": {},
     "output_type": "execute_result"
    }
   ],
   "source": [
    "params = [a for a in dir(TestClass) if not a.startswith('__')]\n",
    "params"
   ]
  },
  {
   "cell_type": "code",
   "execution_count": 16,
   "metadata": {},
   "outputs": [
    {
     "data": {
      "text/plain": [
       "NoneType"
      ]
     },
     "execution_count": 16,
     "metadata": {},
     "output_type": "execute_result"
    }
   ],
   "source": [
    "type(getattr(TestClass, 'age'))"
   ]
  },
  {
   "cell_type": "markdown",
   "metadata": {},
   "source": [
    "I cannot get the intended type of the class. Only its current value."
   ]
  },
  {
   "cell_type": "code",
   "execution_count": 34,
   "metadata": {},
   "outputs": [
    {
     "data": {
      "text/plain": [
       "False"
      ]
     },
     "execution_count": 34,
     "metadata": {},
     "output_type": "execute_result"
    }
   ],
   "source": [
    "p.is_simple(t.age)"
   ]
  },
  {
   "cell_type": "code",
   "execution_count": 31,
   "metadata": {},
   "outputs": [
    {
     "name": "stdout",
     "output_type": "stream",
     "text": [
      "ATT: age TYPE: <class 'NoneType'>\n",
      "ATT: friends TYPE: <class 'list'>\n",
      "list\n",
      "ATT: mail TYPE: <class 'str'>\n",
      "ATT: name TYPE: <class 'str'>\n",
      "ATT: status TYPE: <class 'bool'>\n"
     ]
    }
   ],
   "source": [
    "for attr in attributes:\n",
    "    attr_type = type(getattr(struct, attr))\n",
    "    print(f'ATT: {attr} TYPE: {attr_type}')\n",
    "    if getattr(struct, attr) is None:\n",
    "        continue\n",
    "    elif str(type(getattr(struct, attr))).__contains__('list'):\n",
    "        print('list')\n",
    "    elif not p.is_simple(attr_type):\n",
    "        print(attr)\n",
    "    target[attr] = getattr(struct, attr)"
   ]
  },
  {
   "cell_type": "code",
   "execution_count": 30,
   "metadata": {},
   "outputs": [
    {
     "ename": "TypeError",
     "evalue": "descriptor '__contains__' requires a 'list' object but received a 'str'",
     "output_type": "error",
     "traceback": [
      "\u001b[0;31m---------------------------------------------------------------------------\u001b[0m",
      "\u001b[0;31mTypeError\u001b[0m                                 Traceback (most recent call last)",
      "\u001b[0;32m/var/folders/sn/qxtzz4vn03jgh23rvdh0nsdh0000gn/T/ipykernel_74085/4175882752.py\u001b[0m in \u001b[0;36m<module>\u001b[0;34m\u001b[0m\n\u001b[0;32m----> 1\u001b[0;31m \u001b[0mtype\u001b[0m\u001b[0;34m(\u001b[0m\u001b[0mt\u001b[0m\u001b[0;34m.\u001b[0m\u001b[0mfriends\u001b[0m\u001b[0;34m)\u001b[0m\u001b[0;34m.\u001b[0m\u001b[0m__contains__\u001b[0m\u001b[0;34m(\u001b[0m\u001b[0;34m'list'\u001b[0m\u001b[0;34m)\u001b[0m\u001b[0;34m\u001b[0m\u001b[0;34m\u001b[0m\u001b[0m\n\u001b[0m",
      "\u001b[0;31mTypeError\u001b[0m: descriptor '__contains__' requires a 'list' object but received a 'str'"
     ]
    }
   ],
   "source": [
    "type(t.friends).__contains__('list')"
   ]
  },
  {
   "cell_type": "code",
   "execution_count": null,
   "metadata": {},
   "outputs": [],
   "source": []
  }
 ],
 "metadata": {
  "interpreter": {
   "hash": "ea542fd8d4eacaeb592e7c0582589436192b922135ac57dcc6eb40ca0ce0025a"
  },
  "kernelspec": {
   "display_name": "Python 3.7.11 ('nlp')",
   "language": "python",
   "name": "python3"
  },
  "language_info": {
   "codemirror_mode": {
    "name": "ipython",
    "version": 3
   },
   "file_extension": ".py",
   "mimetype": "text/x-python",
   "name": "python",
   "nbconvert_exporter": "python",
   "pygments_lexer": "ipython3",
   "version": "3.7.12"
  },
  "orig_nbformat": 4
 },
 "nbformat": 4,
 "nbformat_minor": 2
}
