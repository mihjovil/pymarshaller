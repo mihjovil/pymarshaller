{
 "cells": [
  {
   "cell_type": "code",
   "execution_count": 1,
   "metadata": {},
   "outputs": [],
   "source": [
    "import json\n",
    "import typing\n",
    "import os\n",
    "from dataclasses import dataclass"
   ]
  },
  {
   "cell_type": "markdown",
   "metadata": {},
   "source": [
    "# Test dataclasses"
   ]
  },
  {
   "cell_type": "code",
   "execution_count": 2,
   "metadata": {},
   "outputs": [],
   "source": [
    "@dataclass(order=True)\n",
    "class Name:\n",
    "    name:str=None\n",
    "    age: int=None\n",
    "\n",
    "    def __str__(self):\n",
    "        return f'{self.name}: {self.age} years'\n",
    "\n",
    "\n",
    "@dataclass(order=True)\n",
    "class TestClass:\n",
    "    age: int =None\n",
    "    name: str =None\n",
    "    mail: str =None\n",
    "    status: bool =None\n",
    "    friends: typing.List[Name]=None\n",
    "\n",
    "    def __str__(self) -> str:\n",
    "        print(type(self.friends[0]))\n",
    "        friend_text = \"\\n\".join(str(f) for f in self.friends)                    \n",
    "        return f'{self.name} is {self.age} and has {len(self.friends)} friends. These are: {friend_text}'"
   ]
  },
  {
   "cell_type": "markdown",
   "metadata": {},
   "source": [
    "# Reading JSON"
   ]
  },
  {
   "cell_type": "code",
   "execution_count": 3,
   "metadata": {},
   "outputs": [],
   "source": [
    "with open('utils/example_input.json') as content:\n",
    "    json_dict = json.load(content)"
   ]
  },
  {
   "cell_type": "markdown",
   "metadata": {},
   "source": [
    "# Marshaller"
   ]
  },
  {
   "cell_type": "code",
   "execution_count": 98,
   "metadata": {},
   "outputs": [],
   "source": [
    "class Pyshaller():\n",
    "\n",
    "    \"\"\"\n",
    "    TODO\n",
    "    Add an unmarshall list function that reads every element in the list and creates the dataclass from it returning a list of the object\n",
    "    Add the marshall function (That should be easier and recursive)\n",
    "    \"\"\"\n",
    "\n",
    "    def __init__(self):\n",
    "        self.simple_types = [\n",
    "            'str',\n",
    "            'bool',\n",
    "            'float64',\n",
    "            'int32',\n",
    "            'int64',\n",
    "            'int',\n",
    "            'None',        \n",
    "            'datetime'            \n",
    "        ]\n",
    "\n",
    "    def is_simple(self, candidate: typing.Any) -> bool:\n",
    "        for t in self.simple_types:\n",
    "            if t in str(candidate):\n",
    "                return True\n",
    "        return False\n",
    "\n",
    "    def unmarshall(self, struct: object, json_dict: typing.Dict) -> object:\n",
    "        # Dictionary of possible attributes of object\n",
    "        attributes = [a for a in dir(struct) if not a.startswith('__')]\n",
    "        for a in attributes:\n",
    "            print(type(json_dict))\n",
    "            if a in json_dict.keys():\n",
    "                try:\n",
    "                    value = json_dict[a]\n",
    "                    setattr(struct, a, value)\n",
    "                except ValueError:\n",
    "                    print(f'There is no {a} key in the dictionary')\n",
    "        return struct\n",
    "\n",
    "    def unmarshall_list(self, struct: object, objects: typing.List[typing.Dict])-> typing.List[object]:    \n",
    "        answer = []\n",
    "        for item in objects:\n",
    "            temp_struct = struct()\n",
    "            answer.append(self.unmarshall(temp_struct, item))\n",
    "        return answer\n",
    "\n",
    "    def marshall(self, struct: object) -> typing.Dict:       \n",
    "        answer = {}\n",
    "        answer = self.add_attributes_to_dict(answer, struct)\n",
    "        return answer    \n",
    "\n",
    "\n",
    "    def add_attributes_to_dict(self, target: typing.Dict, struct: object) -> typing.Dict:        \n",
    "        attributes = [a for a in dir(struct) if not a.startswith('__')]\n",
    "        for attr in attributes:\n",
    "            attr_type = type(getattr(struct, attr))\n",
    "            attribute = getattr(struct, attr)\n",
    "            if self.is_simple(attr_type):\n",
    "                target[attr] = attribute\n",
    "            elif str(attr_type).__contains__('list'):\n",
    "                temp_list = []\n",
    "                for e in attribute:\n",
    "                    temp_dict = {}\n",
    "                    if self.is_simple(type(e)):\n",
    "                        temp_list.append(e)\n",
    "                    else:\n",
    "                        temp_list.append(self.add_attributes_to_dict(temp_dict, e))\n",
    "                target[attr] = temp_list\n",
    "            else:\n",
    "                # It is a dictionary\n",
    "                temp_dict = {}\n",
    "                target[attr] = self.add_attributes_to_dict(temp_dict, attribute)\n",
    "        return target\n",
    "        "
   ]
  },
  {
   "cell_type": "code",
   "execution_count": 99,
   "metadata": {},
   "outputs": [
    {
     "data": {
      "text/plain": [
       "{'name': 'Jonas',\n",
       " 'mail': 'jonas@gmail.com',\n",
       " 'status': True,\n",
       " 'friends': [{'name': 'juan', 'age': 20}, {'name': 'anna'}]}"
      ]
     },
     "execution_count": 99,
     "metadata": {},
     "output_type": "execute_result"
    }
   ],
   "source": [
    "json_dict"
   ]
  },
  {
   "cell_type": "code",
   "execution_count": 100,
   "metadata": {},
   "outputs": [
    {
     "name": "stdout",
     "output_type": "stream",
     "text": [
      "<class 'dict'>\n",
      "<class 'dict'>\n",
      "<class 'dict'>\n",
      "<class 'dict'>\n",
      "<class 'dict'>\n"
     ]
    }
   ],
   "source": [
    "p = Pyshaller()\n",
    "t = TestClass()\n",
    "t = p.unmarshall(t, json_dict)"
   ]
  },
  {
   "cell_type": "code",
   "execution_count": 101,
   "metadata": {},
   "outputs": [
    {
     "data": {
      "text/plain": [
       "([{'name': 'juan', 'age': 20}, {'name': 'anna'}], list, dict)"
      ]
     },
     "execution_count": 101,
     "metadata": {},
     "output_type": "execute_result"
    }
   ],
   "source": [
    "t.friends, type(t.friends), type(t.friends[0])"
   ]
  },
  {
   "cell_type": "markdown",
   "metadata": {},
   "source": [
    "Note that every friend is currently a dictionary and not an instance of the class friend"
   ]
  },
  {
   "cell_type": "code",
   "execution_count": 102,
   "metadata": {},
   "outputs": [
    {
     "name": "stdout",
     "output_type": "stream",
     "text": [
      "<class 'dict'>\n",
      "<class 'dict'>\n",
      "<class 'dict'>\n",
      "<class 'dict'>\n"
     ]
    }
   ],
   "source": [
    "t.friends = p.unmarshall_list(Name, t.friends)"
   ]
  },
  {
   "cell_type": "code",
   "execution_count": 103,
   "metadata": {},
   "outputs": [
    {
     "data": {
      "text/plain": [
       "__main__.Name"
      ]
     },
     "execution_count": 103,
     "metadata": {},
     "output_type": "execute_result"
    }
   ],
   "source": [
    "type(t.friends[0])"
   ]
  },
  {
   "cell_type": "markdown",
   "metadata": {},
   "source": [
    "Now we have the instances. This process sadly has to be done manually using multiple lines of code in order to get the types in the nested classes"
   ]
  },
  {
   "cell_type": "code",
   "execution_count": 104,
   "metadata": {},
   "outputs": [
    {
     "data": {
      "text/plain": [
       "{'age': None,\n",
       " 'friends': [{'age': 20, 'name': 'juan'}, {'age': None, 'name': 'anna'}],\n",
       " 'mail': 'jonas@gmail.com',\n",
       " 'name': 'Jonas',\n",
       " 'status': True}"
      ]
     },
     "execution_count": 104,
     "metadata": {},
     "output_type": "execute_result"
    }
   ],
   "source": [
    "p.marshall(t)"
   ]
  },
  {
   "cell_type": "code",
   "execution_count": null,
   "metadata": {},
   "outputs": [],
   "source": []
  }
 ],
 "metadata": {
  "interpreter": {
   "hash": "ea542fd8d4eacaeb592e7c0582589436192b922135ac57dcc6eb40ca0ce0025a"
  },
  "kernelspec": {
   "display_name": "Python 3.7.11 ('nlp')",
   "language": "python",
   "name": "python3"
  },
  "language_info": {
   "codemirror_mode": {
    "name": "ipython",
    "version": 3
   },
   "file_extension": ".py",
   "mimetype": "text/x-python",
   "name": "python",
   "nbconvert_exporter": "python",
   "pygments_lexer": "ipython3",
   "version": "3.7.12"
  },
  "orig_nbformat": 4
 },
 "nbformat": 4,
 "nbformat_minor": 2
}
