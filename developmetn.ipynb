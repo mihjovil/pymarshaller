{
 "cells": [
  {
   "cell_type": "code",
   "execution_count": 1,
   "metadata": {},
   "outputs": [],
   "source": [
    "import json\n",
    "import typing\n",
    "from dataclasses import dataclass\n",
    "from utils.example.example_classes import Friend, Person, Address\n",
    "from pymarshaller import Pyshaller"
   ]
  },
  {
   "cell_type": "markdown",
   "metadata": {},
   "source": [
    "# Test dataclasses"
   ]
  },
  {
   "cell_type": "code",
   "execution_count": 4,
   "metadata": {},
   "outputs": [],
   "source": [
    "with open('utils/example/example_input.json') as content:\n",
    "    json_dict = json.load(content)"
   ]
  },
  {
   "cell_type": "markdown",
   "metadata": {},
   "source": [
    "# Marshaller"
   ]
  },
  {
   "cell_type": "code",
   "execution_count": 18,
   "metadata": {},
   "outputs": [
    {
     "name": "stdout",
     "output_type": "stream",
     "text": [
      "<class 'dict'>\n",
      "<class 'dict'>\n",
      "<class 'dict'>\n",
      "<class 'dict'>\n",
      "<class 'dict'>\n",
      "<class 'dict'>\n",
      "<class 'dict'>\n",
      "<class 'dict'>\n",
      "<class 'dict'>\n",
      "<class 'dict'>\n",
      "<class 'dict'>\n",
      "<class 'dict'>\n",
      "<class 'dict'>\n",
      "<class 'dict'>\n",
      "<class 'dict'>\n",
      "<class 'dict'>\n",
      "<class 'dict'>\n",
      "<class 'dict'>\n",
      "<class 'dict'>\n",
      "<class 'dict'>\n",
      "<class 'dict'>\n",
      "<class 'dict'>\n",
      "<class 'dict'>\n",
      "<class 'dict'>\n",
      "<class 'dict'>\n",
      "<class 'dict'>\n",
      "<class 'dict'>\n",
      "<class 'dict'>\n"
     ]
    }
   ],
   "source": [
    "p = Pyshaller()\n",
    "person = Person()\n",
    "unmarshalled = p.unmarshall(person, json_dict)\n",
    "person.address = p.unmarshall(Address(), person.address)\n",
    "person.friends = p.unmarshall_list(Friend, person.friends)"
   ]
  },
  {
   "cell_type": "code",
   "execution_count": 19,
   "metadata": {},
   "outputs": [],
   "source": [
    "address = Address(\"Sesame street\", \"\", 31134, \"Hollywood\", \"USA\", \"4\")\n",
    "address_1 = Address(\"Sesame street\", \"\", 31134, \"Hollywood\", \"USA\", \"3\")\n",
    "address_2 = Address(\"Sesame street\", \"\", 31134, \"Hollywood\", \"USA\", \"2\")\n",
    "friend_1 = Friend(\"Elmo\", address_1, \"3111123\", 6, \"Unknown\")\n",
    "friend_2 = Friend(\"Cookie monster\", address_2, \"3111122\", 4, \"Unknown\")\n",
    "person = Person([friend_1, friend_2], \"Enrique\", 5, \"3142334\", address, \"Male\", \"henry@sesame.us\")"
   ]
  },
  {
   "cell_type": "code",
   "execution_count": 20,
   "metadata": {},
   "outputs": [],
   "source": [
    "marshalled = p.marshall(person)"
   ]
  },
  {
   "cell_type": "code",
   "execution_count": 21,
   "metadata": {},
   "outputs": [
    {
     "data": {
      "text/plain": [
       "{'address': {'additional_line': '',\n",
       "  'city': 'Hollywood',\n",
       "  'country': 'USA',\n",
       "  'house_number': '4',\n",
       "  'postcode': 31134,\n",
       "  'street': 'Sesame street'},\n",
       " 'age': 5,\n",
       " 'friends': [{'address': {'additional_line': '',\n",
       "    'city': 'Hollywood',\n",
       "    'country': 'USA',\n",
       "    'house_number': '3',\n",
       "    'postcode': 31134,\n",
       "    'street': 'Sesame street'},\n",
       "   'age': 6,\n",
       "   'name': 'Elmo',\n",
       "   'phone': '3111123',\n",
       "   'sex': 'Unknown'},\n",
       "  {'address': {'additional_line': '',\n",
       "    'city': 'Hollywood',\n",
       "    'country': 'USA',\n",
       "    'house_number': '2',\n",
       "    'postcode': 31134,\n",
       "    'street': 'Sesame street'},\n",
       "   'age': 4,\n",
       "   'name': 'Cookie monster',\n",
       "   'phone': '3111122',\n",
       "   'sex': 'Unknown'}],\n",
       " 'mail': 'henry@sesame.us',\n",
       " 'name': 'Enrique',\n",
       " 'phone': '3142334',\n",
       " 'sex': 'Male'}"
      ]
     },
     "execution_count": 21,
     "metadata": {},
     "output_type": "execute_result"
    }
   ],
   "source": [
    "marshalled"
   ]
  },
  {
   "cell_type": "code",
   "execution_count": null,
   "metadata": {},
   "outputs": [],
   "source": []
  }
 ],
 "metadata": {
  "interpreter": {
   "hash": "ea542fd8d4eacaeb592e7c0582589436192b922135ac57dcc6eb40ca0ce0025a"
  },
  "kernelspec": {
   "display_name": "Python 3.7.11 ('nlp')",
   "language": "python",
   "name": "python3"
  },
  "language_info": {
   "codemirror_mode": {
    "name": "ipython",
    "version": 3
   },
   "file_extension": ".py",
   "mimetype": "text/x-python",
   "name": "python",
   "nbconvert_exporter": "python",
   "pygments_lexer": "ipython3",
   "version": "3.7.12"
  },
  "orig_nbformat": 4
 },
 "nbformat": 4,
 "nbformat_minor": 2
}
