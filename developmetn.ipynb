{
 "cells": [
  {
   "cell_type": "code",
   "execution_count": 1,
   "metadata": {},
   "outputs": [],
   "source": [
    "import json\n",
    "import typing\n",
    "import os\n",
    "from dataclasses import dataclass"
   ]
  },
  {
   "cell_type": "markdown",
   "metadata": {},
   "source": [
    "# Test dataclasses"
   ]
  },
  {
   "cell_type": "code",
   "execution_count": 2,
   "metadata": {},
   "outputs": [],
   "source": [
    "@dataclass(order=True)\n",
    "class Name:\n",
    "    name:str=None\n",
    "    age: int=None\n",
    "\n",
    "    def __str__(self):\n",
    "        return f'{self.name}: {self.age} years'\n",
    "\n",
    "\n",
    "@dataclass(order=True)\n",
    "class TestClass:\n",
    "    age: int =None\n",
    "    name: str =None\n",
    "    mail: str =None\n",
    "    status: bool =None\n",
    "    friends: typing.List[Name]=None\n",
    "\n",
    "    def __str__(self) -> str:\n",
    "        print(type(self.friends[0]))\n",
    "        friend_text = \"\\n\".join(str(f) for f in self.friends)                    \n",
    "        return f'{self.name} is {self.age} and has {len(self.friends)} friends. These are: {friend_text}'"
   ]
  },
  {
   "cell_type": "markdown",
   "metadata": {},
   "source": [
    "# Reading JSON"
   ]
  },
  {
   "cell_type": "code",
   "execution_count": 3,
   "metadata": {},
   "outputs": [],
   "source": [
    "with open('utils/example_input.json') as content:\n",
    "    json_dict = json.load(content)"
   ]
  },
  {
   "cell_type": "markdown",
   "metadata": {},
   "source": [
    "# Marshaller"
   ]
  },
  {
   "cell_type": "code",
   "execution_count": 30,
   "metadata": {},
   "outputs": [],
   "source": [
    "class Pyshaller():\n",
    "\n",
    "    \"\"\"\n",
    "    TODO\n",
    "    Add an unmarshall list function that reads every element in the list and creates the dataclass from it returning a list of the object\n",
    "    Add the marshall function (That should be easier and recursive)\n",
    "    \"\"\"\n",
    "\n",
    "    def __init__(self):\n",
    "        self.simple_types = [\n",
    "            'str',\n",
    "            'bool',\n",
    "            'float64',\n",
    "            'int32',\n",
    "            'int64',\n",
    "            'datetime'\n",
    "        ]\n",
    "\n",
    "    def is_simple(self, candidate: typing.Any) -> bool:\n",
    "        for t in self.simple_types:\n",
    "            if t in str(candidate):\n",
    "                return True\n",
    "        return False\n",
    "\n",
    "    def unmarshall(self, struct: object, json_dict: typing.Dict) -> object:\n",
    "        # Dictionary of possible attributes of object\n",
    "        attributes = [a for a in dir(struct) if not a.startswith('__')]\n",
    "        for a in attributes:\n",
    "            print(type(json_dict))\n",
    "            if a in json_dict.keys():\n",
    "                try:\n",
    "                    value = json_dict[a]\n",
    "                    setattr(struct, a, value)\n",
    "                except ValueError:\n",
    "                    print(f'There is no {a} key in the dictionary')\n",
    "        return struct\n",
    "\n",
    "    def unmarshall_list(self, struct: object, objects: typing.List[typing.Dict])-> typing.List[object]:    \n",
    "        answer = []\n",
    "        for item in objects:\n",
    "            temp_struct = struct()\n",
    "            answer.append(self.unmarshall(temp_struct, item))\n",
    "        return answer\n",
    "\n",
    "    def marshall(self, struct: object) -> typing.Dict:\n",
    "        # TODO: Implement. Missing taking care of subclasses        \n",
    "        answer = {}\n",
    "        answer = self.add_attributes_to_dict(answer, struct)\n",
    "        return answer\n",
    "        \n",
    "\n",
    "    def add_attributes_to_dict(self, target: typing.Dict, struct: object) -> typing.Dict:\n",
    "        attributes = [a for a in dir(struct) if not a.startswith('__')]\n",
    "        for attr in attributes:\n",
    "            attr_type = type(getattr(struct, attr))\n",
    "            if not self.is_simple(attr_type):\n",
    "                # It is a class in itself\n",
    "                # TODO Add the differentiation of lists and classes\n",
    "                target[attr] = self.add_attributes_to_dict(target, attr)\n",
    "            target[attr] = getattr(struct, attr)\n",
    "        return target\n",
    "        "
   ]
  },
  {
   "cell_type": "code",
   "execution_count": 5,
   "metadata": {},
   "outputs": [
    {
     "data": {
      "text/plain": [
       "{'name': 'Jonas',\n",
       " 'mail': 'jonas@gmail.com',\n",
       " 'status': True,\n",
       " 'friends': [{'name': 'juan', 'age': 20}, {'name': 'anna'}]}"
      ]
     },
     "execution_count": 5,
     "metadata": {},
     "output_type": "execute_result"
    }
   ],
   "source": [
    "json_dict"
   ]
  },
  {
   "cell_type": "code",
   "execution_count": 31,
   "metadata": {},
   "outputs": [
    {
     "name": "stdout",
     "output_type": "stream",
     "text": [
      "<class 'dict'>\n",
      "<class 'dict'>\n",
      "<class 'dict'>\n",
      "<class 'dict'>\n",
      "<class 'dict'>\n"
     ]
    }
   ],
   "source": [
    "p = Pyshaller()\n",
    "t = TestClass()\n",
    "t = p.unmarshall(t, json_dict)"
   ]
  },
  {
   "cell_type": "code",
   "execution_count": 32,
   "metadata": {},
   "outputs": [
    {
     "data": {
      "text/plain": [
       "[{'name': 'juan', 'age': 20}, {'name': 'anna'}]"
      ]
     },
     "execution_count": 32,
     "metadata": {},
     "output_type": "execute_result"
    }
   ],
   "source": [
    "t.friends"
   ]
  },
  {
   "cell_type": "code",
   "execution_count": 33,
   "metadata": {},
   "outputs": [
    {
     "name": "stdout",
     "output_type": "stream",
     "text": [
      "<class 'dict'>\n",
      "<class 'dict'>\n",
      "<class 'dict'>\n",
      "<class 'dict'>\n"
     ]
    }
   ],
   "source": [
    "t.friends = p.unmarshall_list(Name, t.friends)"
   ]
  },
  {
   "cell_type": "code",
   "execution_count": 34,
   "metadata": {},
   "outputs": [
    {
     "data": {
      "text/plain": [
       "__main__.Name"
      ]
     },
     "execution_count": 34,
     "metadata": {},
     "output_type": "execute_result"
    }
   ],
   "source": [
    "type(t.friends[0])"
   ]
  },
  {
   "cell_type": "code",
   "execution_count": 35,
   "metadata": {},
   "outputs": [
    {
     "ename": "RecursionError",
     "evalue": "maximum recursion depth exceeded while calling a Python object",
     "output_type": "error",
     "traceback": [
      "\u001b[0;31m---------------------------------------------------------------------------\u001b[0m",
      "\u001b[0;31mRecursionError\u001b[0m                            Traceback (most recent call last)",
      "\u001b[0;32m/var/folders/sn/qxtzz4vn03jgh23rvdh0nsdh0000gn/T/ipykernel_62462/3544240519.py\u001b[0m in \u001b[0;36m<module>\u001b[0;34m\u001b[0m\n\u001b[0;32m----> 1\u001b[0;31m \u001b[0mp\u001b[0m\u001b[0;34m.\u001b[0m\u001b[0mmarshall\u001b[0m\u001b[0;34m(\u001b[0m\u001b[0mt\u001b[0m\u001b[0;34m)\u001b[0m\u001b[0;34m\u001b[0m\u001b[0;34m\u001b[0m\u001b[0m\n\u001b[0m",
      "\u001b[0;32m/var/folders/sn/qxtzz4vn03jgh23rvdh0nsdh0000gn/T/ipykernel_62462/4000657641.py\u001b[0m in \u001b[0;36mmarshall\u001b[0;34m(self, struct)\u001b[0m\n\u001b[1;32m     46\u001b[0m         \u001b[0;31m# TODO: Implement. Missing taking care of subclasses\u001b[0m\u001b[0;34m\u001b[0m\u001b[0;34m\u001b[0m\u001b[0;34m\u001b[0m\u001b[0m\n\u001b[1;32m     47\u001b[0m         \u001b[0manswer\u001b[0m \u001b[0;34m=\u001b[0m \u001b[0;34m{\u001b[0m\u001b[0;34m}\u001b[0m\u001b[0;34m\u001b[0m\u001b[0;34m\u001b[0m\u001b[0m\n\u001b[0;32m---> 48\u001b[0;31m         \u001b[0manswer\u001b[0m \u001b[0;34m=\u001b[0m \u001b[0mself\u001b[0m\u001b[0;34m.\u001b[0m\u001b[0madd_attributes_to_dict\u001b[0m\u001b[0;34m(\u001b[0m\u001b[0manswer\u001b[0m\u001b[0;34m,\u001b[0m \u001b[0mstruct\u001b[0m\u001b[0;34m)\u001b[0m\u001b[0;34m\u001b[0m\u001b[0;34m\u001b[0m\u001b[0m\n\u001b[0m\u001b[1;32m     49\u001b[0m         \u001b[0;32mreturn\u001b[0m \u001b[0manswer\u001b[0m\u001b[0;34m\u001b[0m\u001b[0;34m\u001b[0m\u001b[0m\n\u001b[1;32m     50\u001b[0m \u001b[0;34m\u001b[0m\u001b[0m\n",
      "\u001b[0;32m/var/folders/sn/qxtzz4vn03jgh23rvdh0nsdh0000gn/T/ipykernel_62462/4000657641.py\u001b[0m in \u001b[0;36madd_attributes_to_dict\u001b[0;34m(self, target, struct)\u001b[0m\n\u001b[1;32m     57\u001b[0m                 \u001b[0;31m# It is a class in itself\u001b[0m\u001b[0;34m\u001b[0m\u001b[0;34m\u001b[0m\u001b[0;34m\u001b[0m\u001b[0m\n\u001b[1;32m     58\u001b[0m                 \u001b[0;31m# TODO Add the differentiation of lists and classes\u001b[0m\u001b[0;34m\u001b[0m\u001b[0;34m\u001b[0m\u001b[0;34m\u001b[0m\u001b[0m\n\u001b[0;32m---> 59\u001b[0;31m                 \u001b[0mtarget\u001b[0m\u001b[0;34m[\u001b[0m\u001b[0mattr\u001b[0m\u001b[0;34m]\u001b[0m \u001b[0;34m=\u001b[0m \u001b[0mself\u001b[0m\u001b[0;34m.\u001b[0m\u001b[0madd_attributes_to_dict\u001b[0m\u001b[0;34m(\u001b[0m\u001b[0mtarget\u001b[0m\u001b[0;34m,\u001b[0m \u001b[0mattr\u001b[0m\u001b[0;34m)\u001b[0m\u001b[0;34m\u001b[0m\u001b[0;34m\u001b[0m\u001b[0m\n\u001b[0m\u001b[1;32m     60\u001b[0m             \u001b[0mtarget\u001b[0m\u001b[0;34m[\u001b[0m\u001b[0mattr\u001b[0m\u001b[0;34m]\u001b[0m \u001b[0;34m=\u001b[0m \u001b[0mgetattr\u001b[0m\u001b[0;34m(\u001b[0m\u001b[0mstruct\u001b[0m\u001b[0;34m,\u001b[0m \u001b[0mattr\u001b[0m\u001b[0;34m)\u001b[0m\u001b[0;34m\u001b[0m\u001b[0;34m\u001b[0m\u001b[0m\n\u001b[1;32m     61\u001b[0m         \u001b[0;32mreturn\u001b[0m \u001b[0mtarget\u001b[0m\u001b[0;34m\u001b[0m\u001b[0;34m\u001b[0m\u001b[0m\n",
      "... last 1 frames repeated, from the frame below ...\n",
      "\u001b[0;32m/var/folders/sn/qxtzz4vn03jgh23rvdh0nsdh0000gn/T/ipykernel_62462/4000657641.py\u001b[0m in \u001b[0;36madd_attributes_to_dict\u001b[0;34m(self, target, struct)\u001b[0m\n\u001b[1;32m     57\u001b[0m                 \u001b[0;31m# It is a class in itself\u001b[0m\u001b[0;34m\u001b[0m\u001b[0;34m\u001b[0m\u001b[0;34m\u001b[0m\u001b[0m\n\u001b[1;32m     58\u001b[0m                 \u001b[0;31m# TODO Add the differentiation of lists and classes\u001b[0m\u001b[0;34m\u001b[0m\u001b[0;34m\u001b[0m\u001b[0;34m\u001b[0m\u001b[0m\n\u001b[0;32m---> 59\u001b[0;31m                 \u001b[0mtarget\u001b[0m\u001b[0;34m[\u001b[0m\u001b[0mattr\u001b[0m\u001b[0;34m]\u001b[0m \u001b[0;34m=\u001b[0m \u001b[0mself\u001b[0m\u001b[0;34m.\u001b[0m\u001b[0madd_attributes_to_dict\u001b[0m\u001b[0;34m(\u001b[0m\u001b[0mtarget\u001b[0m\u001b[0;34m,\u001b[0m \u001b[0mattr\u001b[0m\u001b[0;34m)\u001b[0m\u001b[0;34m\u001b[0m\u001b[0;34m\u001b[0m\u001b[0m\n\u001b[0m\u001b[1;32m     60\u001b[0m             \u001b[0mtarget\u001b[0m\u001b[0;34m[\u001b[0m\u001b[0mattr\u001b[0m\u001b[0;34m]\u001b[0m \u001b[0;34m=\u001b[0m \u001b[0mgetattr\u001b[0m\u001b[0;34m(\u001b[0m\u001b[0mstruct\u001b[0m\u001b[0;34m,\u001b[0m \u001b[0mattr\u001b[0m\u001b[0;34m)\u001b[0m\u001b[0;34m\u001b[0m\u001b[0;34m\u001b[0m\u001b[0m\n\u001b[1;32m     61\u001b[0m         \u001b[0;32mreturn\u001b[0m \u001b[0mtarget\u001b[0m\u001b[0;34m\u001b[0m\u001b[0;34m\u001b[0m\u001b[0m\n",
      "\u001b[0;31mRecursionError\u001b[0m: maximum recursion depth exceeded while calling a Python object"
     ]
    }
   ],
   "source": [
    "p.marshall(t)"
   ]
  },
  {
   "cell_type": "code",
   "execution_count": 28,
   "metadata": {},
   "outputs": [
    {
     "name": "stdout",
     "output_type": "stream",
     "text": [
      "YES: age: <class 'str'>\n",
      "YES: friends: <class 'str'>\n",
      "YES: mail: <class 'str'>\n",
      "YES: name: <class 'str'>\n",
      "YES: status: <class 'str'>\n"
     ]
    }
   ],
   "source": [
    "attributes = [a for a in dir(t) if not a.startswith('__')]\n",
    "attributes\n",
    "for attr in attributes:\n",
    "    attr_type = type(get_attr)\n",
    "    if not p.is_simple(attr_type):\n",
    "        # It is a class in itself\n",
    "        print(f'NOT: {attr}: {attr_type}')\n",
    "    else:\n",
    "        print(f'YES: {attr}: {attr_type}')"
   ]
  },
  {
   "cell_type": "code",
   "execution_count": 29,
   "metadata": {},
   "outputs": [
    {
     "data": {
      "text/plain": [
       "['age', 'friends', 'mail', 'name', 'status']"
      ]
     },
     "execution_count": 29,
     "metadata": {},
     "output_type": "execute_result"
    }
   ],
   "source": [
    "attributes"
   ]
  },
  {
   "cell_type": "code",
   "execution_count": null,
   "metadata": {},
   "outputs": [],
   "source": []
  }
 ],
 "metadata": {
  "interpreter": {
   "hash": "ea542fd8d4eacaeb592e7c0582589436192b922135ac57dcc6eb40ca0ce0025a"
  },
  "kernelspec": {
   "display_name": "Python 3.7.11 ('nlp')",
   "language": "python",
   "name": "python3"
  },
  "language_info": {
   "codemirror_mode": {
    "name": "ipython",
    "version": 3
   },
   "file_extension": ".py",
   "mimetype": "text/x-python",
   "name": "python",
   "nbconvert_exporter": "python",
   "pygments_lexer": "ipython3",
   "version": "3.7.12"
  },
  "orig_nbformat": 4
 },
 "nbformat": 4,
 "nbformat_minor": 2
}
